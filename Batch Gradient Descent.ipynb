{
 "cells": [
  {
   "cell_type": "code",
   "execution_count": 2,
   "id": "2fb44eb0-a43e-4b6c-9e1a-0025f238354c",
   "metadata": {},
   "outputs": [],
   "source": [
    "import numpy as np\n",
    "from sklearn.datasets import load_diabetes"
   ]
  },
  {
   "cell_type": "code",
   "execution_count": 3,
   "id": "1c7249cc-885c-4491-a530-cb6a016350fa",
   "metadata": {},
   "outputs": [],
   "source": [
    "X,Y=load_diabetes(return_X_y=True)"
   ]
  },
  {
   "cell_type": "code",
   "execution_count": 4,
   "id": "526207a7-7531-4891-801d-bd5609447500",
   "metadata": {},
   "outputs": [],
   "source": [
    "from sklearn.model_selection import train_test_split"
   ]
  },
  {
   "cell_type": "code",
   "execution_count": 5,
   "id": "594bd420-b5c2-4ea2-8c46-009309102431",
   "metadata": {},
   "outputs": [],
   "source": [
    "X_train,X_test,Y_train,Y_test = train_test_split(X,Y,test_size=0.2,random_state=2)"
   ]
  },
  {
   "cell_type": "markdown",
   "id": "f449f415-0708-4502-8020-74da87cc487a",
   "metadata": {},
   "source": [
    "Using Linear Regression"
   ]
  },
  {
   "cell_type": "code",
   "execution_count": 7,
   "id": "270eb9ad-8f70-4c1b-98e9-e3c9c275af30",
   "metadata": {},
   "outputs": [],
   "source": [
    "from sklearn.linear_model import LinearRegression"
   ]
  },
  {
   "cell_type": "code",
   "execution_count": 8,
   "id": "50dbc911-add8-4ce1-be4f-d141571587ad",
   "metadata": {},
   "outputs": [
    {
     "data": {
      "text/html": [
       "<style>#sk-container-id-1 {color: black;}#sk-container-id-1 pre{padding: 0;}#sk-container-id-1 div.sk-toggleable {background-color: white;}#sk-container-id-1 label.sk-toggleable__label {cursor: pointer;display: block;width: 100%;margin-bottom: 0;padding: 0.3em;box-sizing: border-box;text-align: center;}#sk-container-id-1 label.sk-toggleable__label-arrow:before {content: \"▸\";float: left;margin-right: 0.25em;color: #696969;}#sk-container-id-1 label.sk-toggleable__label-arrow:hover:before {color: black;}#sk-container-id-1 div.sk-estimator:hover label.sk-toggleable__label-arrow:before {color: black;}#sk-container-id-1 div.sk-toggleable__content {max-height: 0;max-width: 0;overflow: hidden;text-align: left;background-color: #f0f8ff;}#sk-container-id-1 div.sk-toggleable__content pre {margin: 0.2em;color: black;border-radius: 0.25em;background-color: #f0f8ff;}#sk-container-id-1 input.sk-toggleable__control:checked~div.sk-toggleable__content {max-height: 200px;max-width: 100%;overflow: auto;}#sk-container-id-1 input.sk-toggleable__control:checked~label.sk-toggleable__label-arrow:before {content: \"▾\";}#sk-container-id-1 div.sk-estimator input.sk-toggleable__control:checked~label.sk-toggleable__label {background-color: #d4ebff;}#sk-container-id-1 div.sk-label input.sk-toggleable__control:checked~label.sk-toggleable__label {background-color: #d4ebff;}#sk-container-id-1 input.sk-hidden--visually {border: 0;clip: rect(1px 1px 1px 1px);clip: rect(1px, 1px, 1px, 1px);height: 1px;margin: -1px;overflow: hidden;padding: 0;position: absolute;width: 1px;}#sk-container-id-1 div.sk-estimator {font-family: monospace;background-color: #f0f8ff;border: 1px dotted black;border-radius: 0.25em;box-sizing: border-box;margin-bottom: 0.5em;}#sk-container-id-1 div.sk-estimator:hover {background-color: #d4ebff;}#sk-container-id-1 div.sk-parallel-item::after {content: \"\";width: 100%;border-bottom: 1px solid gray;flex-grow: 1;}#sk-container-id-1 div.sk-label:hover label.sk-toggleable__label {background-color: #d4ebff;}#sk-container-id-1 div.sk-serial::before {content: \"\";position: absolute;border-left: 1px solid gray;box-sizing: border-box;top: 0;bottom: 0;left: 50%;z-index: 0;}#sk-container-id-1 div.sk-serial {display: flex;flex-direction: column;align-items: center;background-color: white;padding-right: 0.2em;padding-left: 0.2em;position: relative;}#sk-container-id-1 div.sk-item {position: relative;z-index: 1;}#sk-container-id-1 div.sk-parallel {display: flex;align-items: stretch;justify-content: center;background-color: white;position: relative;}#sk-container-id-1 div.sk-item::before, #sk-container-id-1 div.sk-parallel-item::before {content: \"\";position: absolute;border-left: 1px solid gray;box-sizing: border-box;top: 0;bottom: 0;left: 50%;z-index: -1;}#sk-container-id-1 div.sk-parallel-item {display: flex;flex-direction: column;z-index: 1;position: relative;background-color: white;}#sk-container-id-1 div.sk-parallel-item:first-child::after {align-self: flex-end;width: 50%;}#sk-container-id-1 div.sk-parallel-item:last-child::after {align-self: flex-start;width: 50%;}#sk-container-id-1 div.sk-parallel-item:only-child::after {width: 0;}#sk-container-id-1 div.sk-dashed-wrapped {border: 1px dashed gray;margin: 0 0.4em 0.5em 0.4em;box-sizing: border-box;padding-bottom: 0.4em;background-color: white;}#sk-container-id-1 div.sk-label label {font-family: monospace;font-weight: bold;display: inline-block;line-height: 1.2em;}#sk-container-id-1 div.sk-label-container {text-align: center;}#sk-container-id-1 div.sk-container {/* jupyter's `normalize.less` sets `[hidden] { display: none; }` but bootstrap.min.css set `[hidden] { display: none !important; }` so we also need the `!important` here to be able to override the default hidden behavior on the sphinx rendered scikit-learn.org. See: https://github.com/scikit-learn/scikit-learn/issues/21755 */display: inline-block !important;position: relative;}#sk-container-id-1 div.sk-text-repr-fallback {display: none;}</style><div id=\"sk-container-id-1\" class=\"sk-top-container\"><div class=\"sk-text-repr-fallback\"><pre>LinearRegression()</pre><b>In a Jupyter environment, please rerun this cell to show the HTML representation or trust the notebook. <br />On GitHub, the HTML representation is unable to render, please try loading this page with nbviewer.org.</b></div><div class=\"sk-container\" hidden><div class=\"sk-item\"><div class=\"sk-estimator sk-toggleable\"><input class=\"sk-toggleable__control sk-hidden--visually\" id=\"sk-estimator-id-1\" type=\"checkbox\" checked><label for=\"sk-estimator-id-1\" class=\"sk-toggleable__label sk-toggleable__label-arrow\">LinearRegression</label><div class=\"sk-toggleable__content\"><pre>LinearRegression()</pre></div></div></div></div></div>"
      ],
      "text/plain": [
       "LinearRegression()"
      ]
     },
     "execution_count": 8,
     "metadata": {},
     "output_type": "execute_result"
    }
   ],
   "source": [
    "lr=LinearRegression()\n",
    "lr.fit(X_train,Y_train)"
   ]
  },
  {
   "cell_type": "code",
   "execution_count": 10,
   "id": "e4604901-f377-476c-843e-05bc241742ad",
   "metadata": {},
   "outputs": [],
   "source": [
    "Y_pred = lr.predict(X_test)"
   ]
  },
  {
   "cell_type": "code",
   "execution_count": 11,
   "id": "bc95c682-9851-4739-bec3-55c997698687",
   "metadata": {},
   "outputs": [],
   "source": [
    "# calculation coefficient\n",
    "c1=lr.coef_\n",
    "# calculation intercept\n",
    "l1=lr.intercept_"
   ]
  },
  {
   "cell_type": "code",
   "execution_count": 12,
   "id": "b9294986-2d22-4298-9645-5d9dfdc79104",
   "metadata": {},
   "outputs": [],
   "source": [
    "# calculating r2 score\n",
    "from sklearn.metrics import r2_score"
   ]
  },
  {
   "cell_type": "code",
   "execution_count": 13,
   "id": "019a354c-14f9-448c-b311-984c4b18106b",
   "metadata": {},
   "outputs": [],
   "source": [
    "r1=r2_score(Y_test,Y_pred)"
   ]
  },
  {
   "cell_type": "markdown",
   "id": "888596ad-6a95-41f4-a9f0-7ab839c0d326",
   "metadata": {},
   "source": [
    "Using own Batch Gradient Descent "
   ]
  },
  {
   "cell_type": "code",
   "execution_count": 54,
   "id": "4bf82b25-8566-4f23-b2a6-7b5a706dc652",
   "metadata": {},
   "outputs": [],
   "source": [
    "class Batch:\n",
    "    \n",
    "    def __init__(self,learning_rate,epochs):\n",
    "        self.coef_=None\n",
    "        self.intercept_=None\n",
    "        self.lr=learning_rate\n",
    "        self.epochs=epochs\n",
    "        \n",
    "    def fit(self,X_train,Y_train):\n",
    "        #initialising coefficient with array of 1s and intercept with 0\n",
    "        self.intercept_=0\n",
    "        self.coef_=np.ones(X_train.shape[1])\n",
    "        \n",
    "        for i in range(self.epochs):\n",
    "            # calculating value of y_hat\n",
    "            Y_hat = np.dot(X_train,self.coef_)+self.intercept_\n",
    "            # calculating derivative wrt intercept\n",
    "            intercept_der=-2*np.mean(Y_train-Y_hat)\n",
    "            # updating the value of intercept\n",
    "            self.intercept_=self.intercept_-(self.lr*intercept_der)\n",
    "            # calculating derivative wrt intercept\n",
    "            coef_der=-2*np.dot((Y_train - Y_hat),X_train)/X_train.shape[0]\n",
    "            # updatin the value of coefficient\n",
    "            self.coef_=self.coef_-(self.lr*coef_der)\n",
    "        \n",
    "        return self.intercept_,self.coef_\n",
    "    \n",
    "    def predict(self,X_test):\n",
    "        return np.dot(X_test,self.coef_)+self.intercept_"
   ]
  },
  {
   "cell_type": "code",
   "execution_count": 55,
   "id": "0840fc13-a19a-46d3-acaa-f85356d104be",
   "metadata": {},
   "outputs": [],
   "source": [
    "batch=Batch(epochs=700,learning_rate=0.5)"
   ]
  },
  {
   "cell_type": "code",
   "execution_count": 56,
   "id": "de2d4a6a-f6b2-4fb0-b18e-b384d5c55b3e",
   "metadata": {},
   "outputs": [],
   "source": [
    "l2,c2=batch.fit(X_train,Y_train)"
   ]
  },
  {
   "cell_type": "code",
   "execution_count": 57,
   "id": "89e5021c-691b-475d-974d-2c9c25c2318f",
   "metadata": {},
   "outputs": [],
   "source": [
    "y_pred=batch.predict(X_test)"
   ]
  },
  {
   "cell_type": "code",
   "execution_count": 58,
   "id": "7692f55c-3c78-446b-a81f-d70c3fda1a87",
   "metadata": {},
   "outputs": [],
   "source": [
    "# calculating the value of r2_score\n",
    "r2=r2_score(Y_test,y_pred)"
   ]
  },
  {
   "cell_type": "code",
   "execution_count": 59,
   "id": "d1c72c20-a308-45ff-ae1a-698a0d049a1f",
   "metadata": {},
   "outputs": [
    {
     "name": "stdout",
     "output_type": "stream",
     "text": [
      "[  -9.15865318 -205.45432163  516.69374454  340.61999905 -895.5520019\n",
      "  561.22067904  153.89310954  126.73139688  861.12700152   52.42112238] [  29.67083873 -140.09736157  452.18421657  304.49610253  -22.72470537\n",
      "  -91.59148347 -191.79291109  113.95728528  409.21050648  113.8050917 ]\n"
     ]
    }
   ],
   "source": [
    "# comparing the coefficients\n",
    "print(c1,c2)"
   ]
  },
  {
   "cell_type": "code",
   "execution_count": 60,
   "id": "d188c389-6606-4f35-af1d-ce442fc2dc57",
   "metadata": {},
   "outputs": [
    {
     "name": "stdout",
     "output_type": "stream",
     "text": [
      "151.88331005254167 152.06705834452478\n"
     ]
    }
   ],
   "source": [
    "# comparing the intercept\n",
    "print(l1,l2)"
   ]
  },
  {
   "cell_type": "code",
   "execution_count": 61,
   "id": "178d3b0d-6eae-44a0-84c8-1c5cc131e817",
   "metadata": {},
   "outputs": [
    {
     "name": "stdout",
     "output_type": "stream",
     "text": [
      "0.4399338661568969 0.45322184022713363\n"
     ]
    }
   ],
   "source": [
    "# comparing the r2_score\n",
    "print(r1,r2)"
   ]
  },
  {
   "cell_type": "code",
   "execution_count": null,
   "id": "ebec3bf0-8e31-43bf-8a79-564090cf3e48",
   "metadata": {},
   "outputs": [],
   "source": []
  },
  {
   "cell_type": "code",
   "execution_count": null,
   "id": "9a5c7cc8-807d-4dfb-861c-f10b08291dd2",
   "metadata": {},
   "outputs": [],
   "source": []
  },
  {
   "cell_type": "code",
   "execution_count": null,
   "id": "2e1eb15d-c4d2-44a7-9e88-081e5074cdc2",
   "metadata": {},
   "outputs": [],
   "source": []
  }
 ],
 "metadata": {
  "kernelspec": {
   "display_name": "Python 3 (ipykernel)",
   "language": "python",
   "name": "python3"
  },
  "language_info": {
   "codemirror_mode": {
    "name": "ipython",
    "version": 3
   },
   "file_extension": ".py",
   "mimetype": "text/x-python",
   "name": "python",
   "nbconvert_exporter": "python",
   "pygments_lexer": "ipython3",
   "version": "3.8.2"
  }
 },
 "nbformat": 4,
 "nbformat_minor": 5
}
